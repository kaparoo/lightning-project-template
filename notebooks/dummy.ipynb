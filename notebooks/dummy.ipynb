{
 "cells": [
  {
   "cell_type": "code",
   "execution_count": 1,
   "metadata": {},
   "outputs": [],
   "source": [
    "import os\n",
    "import sys\n",
    "from pathlib import Path\n",
    "\n",
    "project_root = Path.cwd().parents[0]\n",
    "sys.path.append(str(project_root))\n",
    "\n",
    "import dotenv\n",
    "import matplotlib.pyplot as plt\n",
    "import torchinfo\n",
    "from lightning import Trainer\n",
    "\n",
    "from project.datasets.dummy import FashionMNISTDataModule\n",
    "from project.models.dummy import FashionMNISTClassifier"
   ]
  },
  {
   "cell_type": "code",
   "execution_count": 2,
   "metadata": {},
   "outputs": [],
   "source": [
    "dotenv.load_dotenv()\n",
    "\n",
    "datasets_root = Path(os.environ.get(\"DATASETS_ROOT\", \".\"))\n",
    "assert datasets_root.is_dir()"
   ]
  },
  {
   "cell_type": "code",
   "execution_count": 3,
   "metadata": {},
   "outputs": [],
   "source": [
    "datamodule = FashionMNISTDataModule(datasets_root)"
   ]
  },
  {
   "cell_type": "code",
   "execution_count": 4,
   "metadata": {},
   "outputs": [
    {
     "name": "stderr",
     "output_type": "stream",
     "text": [
      "c:\\Users\\IIVS\\anaconda3\\envs\\lightning-py310\\lib\\site-packages\\torchinfo\\torchinfo.py:477: UserWarning: TypedStorage is deprecated. It will be removed in the future and UntypedStorage will be the only storage class. This should only matter to you if you are using storages directly.  To access UntypedStorage directly, use tensor.untyped_storage() instead of tensor.storage()\n",
      "  action_fn=lambda data: sys.getsizeof(data.storage()),\n",
      "c:\\Users\\IIVS\\anaconda3\\envs\\lightning-py310\\lib\\site-packages\\torch\\storage.py:665: UserWarning: TypedStorage is deprecated. It will be removed in the future and UntypedStorage will be the only storage class. This should only matter to you if you are using storages directly.  To access UntypedStorage directly, use tensor.untyped_storage() instead of tensor.storage()\n",
      "  return super().__sizeof__() + self.nbytes()\n"
     ]
    },
    {
     "data": {
      "text/plain": [
       "============================================================================================================================================\n",
       "Layer (type:depth-idx)                   Input Shape               Output Shape              Param #                   Param %\n",
       "============================================================================================================================================\n",
       "FashionMNISTClassifier                   [32, 1, 28, 28]           [32, 10]                  --                             --\n",
       "├─Sequential: 1-1                        [32, 1, 28, 28]           [32, 10]                  --                             --\n",
       "│    └─Conv2d: 2-1                       [32, 1, 28, 28]           [32, 128, 26, 26]         1,280                       0.35%\n",
       "│    └─BatchNorm2d: 2-2                  [32, 128, 26, 26]         [32, 128, 26, 26]         256                         0.07%\n",
       "│    └─ReLU: 2-3                         [32, 128, 26, 26]         [32, 128, 26, 26]         --                             --\n",
       "│    └─MaxPool2d: 2-4                    [32, 128, 26, 26]         [32, 128, 13, 13]         --                             --\n",
       "│    └─Conv2d: 2-5                       [32, 128, 13, 13]         [32, 256, 11, 11]         295,168                    81.71%\n",
       "│    └─BatchNorm2d: 2-6                  [32, 256, 11, 11]         [32, 256, 11, 11]         512                         0.14%\n",
       "│    └─ReLU: 2-7                         [32, 256, 11, 11]         [32, 256, 11, 11]         --                             --\n",
       "│    └─MaxPool2d: 2-8                    [32, 256, 11, 11]         [32, 256, 5, 5]           --                             --\n",
       "│    └─Flatten: 2-9                      [32, 256, 5, 5]           [32, 6400]                --                             --\n",
       "│    └─Linear: 2-10                      [32, 6400]                [32, 10]                  64,010                     17.72%\n",
       "│    └─Softmax: 2-11                     [32, 10]                  [32, 10]                  --                             --\n",
       "============================================================================================================================================\n",
       "Total params: 361,226\n",
       "Trainable params: 361,226\n",
       "Non-trainable params: 0\n",
       "Total mult-adds (G): 1.17\n",
       "============================================================================================================================================\n",
       "Input size (MB): 0.10\n",
       "Forward/backward pass size (MB): 60.16\n",
       "Params size (MB): 1.44\n",
       "Estimated Total Size (MB): 61.71\n",
       "============================================================================================================================================"
      ]
     },
     "execution_count": 4,
     "metadata": {},
     "output_type": "execute_result"
    }
   ],
   "source": [
    "model = FashionMNISTClassifier()\n",
    "torchinfo.summary(model, input_size=(32, 1, 28, 28), col_names=(\"input_size\", \"output_size\", \"num_params\", \"params_percent\"))"
   ]
  },
  {
   "cell_type": "code",
   "execution_count": 5,
   "metadata": {},
   "outputs": [
    {
     "name": "stderr",
     "output_type": "stream",
     "text": [
      "GPU available: True (cuda), used: True\n",
      "TPU available: False, using: 0 TPU cores\n",
      "IPU available: False, using: 0 IPUs\n",
      "HPU available: False, using: 0 HPUs\n",
      "c:\\Users\\IIVS\\anaconda3\\envs\\lightning-py310\\lib\\site-packages\\lightning\\pytorch\\trainer\\configuration_validator.py:70: UserWarning: You passed in a `val_dataloader` but have no `validation_step`. Skipping val loop.\n",
      "  rank_zero_warn(\"You passed in a `val_dataloader` but have no `validation_step`. Skipping val loop.\")\n",
      "Missing logger folder: c:\\Users\\IIVS\\Desktop\\Dev\\kaparoo\\lightning-project-template\\notebooks\\lightning_logs\n",
      "LOCAL_RANK: 0 - CUDA_VISIBLE_DEVICES: [0]\n",
      "\n",
      "  | Name    | Type       | Params\n",
      "---------------------------------------\n",
      "0 | network | Sequential | 361 K \n",
      "---------------------------------------\n",
      "361 K     Trainable params\n",
      "0         Non-trainable params\n",
      "361 K     Total params\n",
      "1.445     Total estimated model params size (MB)\n"
     ]
    },
    {
     "data": {
      "application/vnd.jupyter.widget-view+json": {
       "model_id": "41e097e8e31e45a78ce0c046c1b0481a",
       "version_major": 2,
       "version_minor": 0
      },
      "text/plain": [
       "Training: 0it [00:00, ?it/s]"
      ]
     },
     "metadata": {},
     "output_type": "display_data"
    },
    {
     "name": "stderr",
     "output_type": "stream",
     "text": [
      "`Trainer.fit` stopped: `max_epochs=10` reached.\n"
     ]
    }
   ],
   "source": [
    "trainer = Trainer(max_epochs=10)\n",
    "trainer.fit(model, datamodule)"
   ]
  },
  {
   "cell_type": "code",
   "execution_count": 6,
   "metadata": {},
   "outputs": [
    {
     "data": {
      "image/png": "[encoded data removed]",
      "text/plain": [
       "<Figure size 640x480 with 1 Axes>"
      ]
     },
     "metadata": {},
     "output_type": "display_data"
    }
   ],
   "source": [
    "plt.title(\"Loss\")\n",
    "plt.xlabel(\"Epoch\")\n",
    "plt.plot(model.epoch_losees)\n",
    "plt.show()"
   ]
  }
 ],
 "metadata": {
  "kernelspec": {
   "display_name": "lightning-py310",
   "language": "python",
   "name": "python3"
  },
  "language_info": {
   "codemirror_mode": {
    "name": "ipython",
    "version": 3
   },
   "file_extension": ".py",
   "mimetype": "text/x-python",
   "name": "python",
   "nbconvert_exporter": "python",
   "pygments_lexer": "ipython3",
   "version": "3.10.10"
  },
  "orig_nbformat": 4
 },
 "nbformat": 4,
 "nbformat_minor": 2
}
